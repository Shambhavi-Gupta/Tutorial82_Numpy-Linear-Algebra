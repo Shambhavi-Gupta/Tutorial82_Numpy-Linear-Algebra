{
  "nbformat": 4,
  "nbformat_minor": 0,
  "metadata": {
    "colab": {
      "name": "Tutorial82_Numpy-Linear-Algebra.ipynb",
      "provenance": [],
      "authorship_tag": "ABX9TyPpYLIV5RzxjHlBwcxCODFA",
      "include_colab_link": true
    },
    "kernelspec": {
      "name": "python3",
      "display_name": "Python 3"
    }
  },
  "cells": [
    {
      "cell_type": "markdown",
      "metadata": {
        "id": "view-in-github",
        "colab_type": "text"
      },
      "source": [
        "<a href=\"https://colab.research.google.com/github/Shambhavi-Gupta/Tutorial82_Numpy-Linear-Algebra/blob/main/Tutorial82_Numpy_Linear_Algebra.ipynb\" target=\"_parent\"><img src=\"https://colab.research.google.com/assets/colab-badge.svg\" alt=\"Open In Colab\"/></a>"
      ]
    },
    {
      "cell_type": "code",
      "metadata": {
        "id": "K6KTNNbbdxsk"
      },
      "source": [
        "import numpy as np\r\n",
        "#help(np.linalg.inv)\r\n",
        "# a = np.array([[1,2],[3,4]])\r\n",
        "# print(a)\r\n",
        "# b = np.linalg.inv(a)\r\n",
        "# print(b)\r\n",
        "a = np.array([1,2,3,4])\r\n",
        "b = np.linalg.inv(a)\r\n",
        "print(b)\r\n"
      ],
      "execution_count": null,
      "outputs": []
    }
  ]
}